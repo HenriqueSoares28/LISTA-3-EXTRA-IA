{
 "cells": [
  {
   "cell_type": "code",
   "execution_count": 5,
   "metadata": {},
   "outputs": [],
   "source": [
    "import pandas as pd\n",
    "from sklearn.feature_extraction.text import TfidfVectorizer\n",
    "from sklearn.naive_bayes import MultinomialNB\n",
    "from sklearn.pipeline import make_pipeline\n",
    "from sklearn.metrics import classification_report, accuracy_score"
   ]
  },
  {
   "cell_type": "code",
   "execution_count": 9,
   "metadata": {},
   "outputs": [],
   "source": [
    "# Caminhos para os arquivos de dados\n",
    "train_data_path = 'ReutersGrain-train.csv'\n",
    "test_data_path = 'ReutersGrain-test.csv'"
   ]
  },
  {
   "cell_type": "code",
   "execution_count": 12,
   "metadata": {},
   "outputs": [
    {
     "data": {
      "text/plain": [
       "(\"read_csv() got an unexpected keyword argument 'error_bad_lines'\",\n",
       " \"read_csv() got an unexpected keyword argument 'error_bad_lines'\")"
      ]
     },
     "execution_count": 12,
     "metadata": {},
     "output_type": "execute_result"
    }
   ],
   "source": [
    "# Lendo os arquivos CSV com uma abordagem para lidar com formatos irregulares\n",
    "\n",
    "# Aumentando o número de colunas e tentando detectar automaticamente o delimitador\n",
    "column_names_extended = ['col' + str(i) for i in range(100)]  # Criando 100 nomes de colunas\n",
    "\n",
    "try:\n",
    "    # Lendo os arquivos CSV com as novas configurações\n",
    "    train_data = pd.read_csv(train_data_path, names=column_names_extended, delimiter=None, engine='python', error_bad_lines=False)\n",
    "    test_data = pd.read_csv(test_data_path, names=column_names_extended, delimiter=None, engine='python', error_bad_lines=False)\n",
    "\n",
    "    # Combinando todas as colunas de texto em uma e usando a última coluna como rótulo\n",
    "    train_data['Text'] = train_data[column_names_extended[:-1]].apply(lambda row: ' '.join(row.values.astype(str)), axis=1)\n",
    "    train_data['class-att'] = pd.to_numeric(train_data[column_names_extended[-1]], errors='coerce')\n",
    "    test_data['Text'] = test_data[column_names_extended[:-1]].apply(lambda row: ' '.join(row.values.astype(str)), axis=1)\n",
    "    test_data['class-att'] = pd.to_numeric(test_data[column_names_extended[-1]], errors='coerce')\n",
    "\n",
    "    # Limpando os dados\n",
    "    train_data.drop(columns=column_names_extended, inplace=True)\n",
    "    test_data.drop(columns=column_names_extended, inplace=True)\n",
    "    train_data.dropna(inplace=True)\n",
    "    test_data.dropna(inplace=True)\n",
    "except Exception as e:\n",
    "    extended_read_error = str(e)\n",
    "\n",
    "# Verificando se a leitura foi bem-sucedida ou retornando a mensagem de erro\n",
    "train_data.head() if 'train_data' in locals() else extended_read_error, test_data.head() if 'test_data' in locals() else extended_read_error\n",
    "\n"
   ]
  },
  {
   "cell_type": "code",
   "execution_count": 13,
   "metadata": {},
   "outputs": [
    {
     "ename": "NameError",
     "evalue": "name 'train_data' is not defined",
     "output_type": "error",
     "traceback": [
      "\u001b[1;31m---------------------------------------------------------------------------\u001b[0m",
      "\u001b[1;31mNameError\u001b[0m                                 Traceback (most recent call last)",
      "\u001b[1;32mc:\\Codes\\IA\\LISTA 3 EXTRA\\Questao01\\q1.ipynb Célula 4\u001b[0m line \u001b[0;36m2\n\u001b[0;32m      <a href='vscode-notebook-cell:/c%3A/Codes/IA/LISTA%203%20EXTRA/Questao01/q1.ipynb#W3sZmlsZQ%3D%3D?line=0'>1</a>\u001b[0m \u001b[39m# Combinando todas as colunas de texto em uma e usando a última coluna como rótulo\u001b[39;00m\n\u001b[1;32m----> <a href='vscode-notebook-cell:/c%3A/Codes/IA/LISTA%203%20EXTRA/Questao01/q1.ipynb#W3sZmlsZQ%3D%3D?line=1'>2</a>\u001b[0m train_data[\u001b[39m'\u001b[39m\u001b[39mText\u001b[39m\u001b[39m'\u001b[39m] \u001b[39m=\u001b[39m train_data[column_names[:\u001b[39m-\u001b[39m\u001b[39m1\u001b[39m]]\u001b[39m.\u001b[39mapply(\u001b[39mlambda\u001b[39;00m row: \u001b[39m'\u001b[39m\u001b[39m \u001b[39m\u001b[39m'\u001b[39m\u001b[39m.\u001b[39mjoin(row\u001b[39m.\u001b[39mvalues\u001b[39m.\u001b[39mastype(\u001b[39mstr\u001b[39m)), axis\u001b[39m=\u001b[39m\u001b[39m1\u001b[39m)\n\u001b[0;32m      <a href='vscode-notebook-cell:/c%3A/Codes/IA/LISTA%203%20EXTRA/Questao01/q1.ipynb#W3sZmlsZQ%3D%3D?line=2'>3</a>\u001b[0m train_data[\u001b[39m'\u001b[39m\u001b[39mclass-att\u001b[39m\u001b[39m'\u001b[39m] \u001b[39m=\u001b[39m pd\u001b[39m.\u001b[39mto_numeric(train_data[column_names[\u001b[39m-\u001b[39m\u001b[39m1\u001b[39m]], errors\u001b[39m=\u001b[39m\u001b[39m'\u001b[39m\u001b[39mcoerce\u001b[39m\u001b[39m'\u001b[39m)\n\u001b[0;32m      <a href='vscode-notebook-cell:/c%3A/Codes/IA/LISTA%203%20EXTRA/Questao01/q1.ipynb#W3sZmlsZQ%3D%3D?line=3'>4</a>\u001b[0m test_data[\u001b[39m'\u001b[39m\u001b[39mText\u001b[39m\u001b[39m'\u001b[39m] \u001b[39m=\u001b[39m test_data[column_names[:\u001b[39m-\u001b[39m\u001b[39m1\u001b[39m]]\u001b[39m.\u001b[39mapply(\u001b[39mlambda\u001b[39;00m row: \u001b[39m'\u001b[39m\u001b[39m \u001b[39m\u001b[39m'\u001b[39m\u001b[39m.\u001b[39mjoin(row\u001b[39m.\u001b[39mvalues\u001b[39m.\u001b[39mastype(\u001b[39mstr\u001b[39m)), axis\u001b[39m=\u001b[39m\u001b[39m1\u001b[39m)\n",
      "\u001b[1;31mNameError\u001b[0m: name 'train_data' is not defined"
     ]
    }
   ],
   "source": [
    "# Combinando todas as colunas de texto em uma e usando a última coluna como rótulo\n",
    "train_data['Text'] = train_data[column_names[:-1]].apply(lambda row: ' '.join(row.values.astype(str)), axis=1)\n",
    "train_data['class-att'] = pd.to_numeric(train_data[column_names[-1]], errors='coerce')\n",
    "test_data['Text'] = test_data[column_names[:-1]].apply(lambda row: ' '.join(row.values.astype(str)), axis=1)\n",
    "test_data['class-att'] = pd.to_numeric(test_data[column_names[-1]], errors='coerce')\n"
   ]
  },
  {
   "cell_type": "code",
   "execution_count": null,
   "metadata": {},
   "outputs": [],
   "source": [
    "# Limpando os dados\n",
    "train_data.drop(columns=column_names, inplace=True)\n",
    "test_data.drop(columns=column_names, inplace=True)\n",
    "train_data.dropna(inplace=True)\n",
    "test_data.dropna(inplace=True)"
   ]
  },
  {
   "cell_type": "code",
   "execution_count": null,
   "metadata": {},
   "outputs": [],
   "source": [
    "# Preparando o modelo de classificação\n",
    "vectorizer = TfidfVectorizer(stop_words='english')\n",
    "model = make_pipeline(vectorizer, MultinomialNB())"
   ]
  },
  {
   "cell_type": "code",
   "execution_count": null,
   "metadata": {},
   "outputs": [],
   "source": [
    "# Treinamento do modelo\n",
    "model.fit(train_data['Text'], train_data['class-att'])"
   ]
  },
  {
   "cell_type": "code",
   "execution_count": null,
   "metadata": {},
   "outputs": [],
   "source": [
    "# Predição e avaliação\n",
    "y_pred = model.predict(test_data['Text'])\n",
    "accuracy = accuracy_score(test_data['class-att'], y_pred)\n",
    "report = classification_report(test_data['class-att'], y_pred)]"
   ]
  },
  {
   "cell_type": "code",
   "execution_count": null,
   "metadata": {},
   "outputs": [],
   "source": [
    "# Exibindo os resultados\n",
    "print(f\"Accuracy: {accuracy}\")\n",
    "print(report)"
   ]
  }
 ],
 "metadata": {
  "kernelspec": {
   "display_name": "Python 3",
   "language": "python",
   "name": "python3"
  },
  "language_info": {
   "codemirror_mode": {
    "name": "ipython",
    "version": 3
   },
   "file_extension": ".py",
   "mimetype": "text/x-python",
   "name": "python",
   "nbconvert_exporter": "python",
   "pygments_lexer": "ipython3",
   "version": "3.11.6"
  }
 },
 "nbformat": 4,
 "nbformat_minor": 2
}
